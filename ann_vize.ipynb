{
  "metadata": {
    "kernelspec": {
      "language": "python",
      "display_name": "Python 3",
      "name": "python3"
    },
    "language_info": {
      "pygments_lexer": "ipython3",
      "nbconvert_exporter": "python",
      "version": "3.6.4",
      "file_extension": ".py",
      "codemirror_mode": {
        "name": "ipython",
        "version": 3
      },
      "name": "python",
      "mimetype": "text/x-python"
    },
    "colab": {
      "provenance": []
    }
  },
  "nbformat_minor": 0,
  "nbformat": 4,
  "cells": [
    {
      "cell_type": "code",
      "source": [
        "\n",
        "import numpy as np # linear algebra\n",
        "import pandas as pd # data processing, CSV file I/O (e.g. pd.read_csv)\n",
        "\n",
        "# Input data files are available in the read-only \"../input/\" directory\n",
        "# For example, running this (by clicking run or pressing Shift+Enter) will list all files under the input directory\n",
        "\n",
        "\n"
      ],
      "metadata": {
        "_uuid": "8f2839f25d086af736a60e9eeb907d3b93b6e0e5",
        "_cell_guid": "b1076dfc-b9ad-4769-8c92-a6c4dae69d19",
        "_kg_hide-input": true,
        "_kg_hide-output": true,
        "execution": {
          "iopub.status.busy": "2021-05-28T09:51:55.381039Z",
          "iopub.execute_input": "2021-05-28T09:51:55.381504Z",
          "iopub.status.idle": "2021-05-28T09:51:55.402018Z",
          "shell.execute_reply.started": "2021-05-28T09:51:55.381416Z",
          "shell.execute_reply": "2021-05-28T09:51:55.400858Z"
        },
        "trusted": true,
        "id": "nmngw46V213z"
      },
      "execution_count": null,
      "outputs": []
    },
    {
      "cell_type": "code",
      "source": [],
      "metadata": {
        "colab": {
          "base_uri": "https://localhost:8080/",
          "height": 328
        },
        "id": "zYkjpTeA9ETb",
        "outputId": "73f2665c-f95a-47ba-946e-3bed808cfc78"
      },
      "execution_count": null,
      "outputs": [
        {
          "output_type": "error",
          "ename": "ValueError",
          "evalue": "ignored",
          "traceback": [
            "\u001b[0;31m---------------------------------------------------------------------------\u001b[0m",
            "\u001b[0;31mValueError\u001b[0m                                Traceback (most recent call last)",
            "\u001b[0;32m<ipython-input-24-d9dbf5441a87>\u001b[0m in \u001b[0;36m<module>\u001b[0;34m\u001b[0m\n\u001b[1;32m      1\u001b[0m \u001b[0;32mfrom\u001b[0m \u001b[0mgoogle\u001b[0m\u001b[0;34m.\u001b[0m\u001b[0mcolab\u001b[0m \u001b[0;32mimport\u001b[0m \u001b[0mdrive\u001b[0m\u001b[0;34m\u001b[0m\u001b[0;34m\u001b[0m\u001b[0m\n\u001b[0;32m----> 2\u001b[0;31m \u001b[0mdrive\u001b[0m\u001b[0;34m.\u001b[0m\u001b[0mmount\u001b[0m\u001b[0;34m(\u001b[0m\u001b[0;34m'/content/drive/u/0/folders/1NaTpbMbXTRChxnmrbl77DWvqDDecQAVW'\u001b[0m\u001b[0;34m)\u001b[0m\u001b[0;34m\u001b[0m\u001b[0;34m\u001b[0m\u001b[0m\n\u001b[0m",
            "\u001b[0;32m/usr/local/lib/python3.8/dist-packages/google/colab/drive.py\u001b[0m in \u001b[0;36mmount\u001b[0;34m(mountpoint, force_remount, timeout_ms, readonly)\u001b[0m\n\u001b[1;32m     99\u001b[0m \u001b[0;32mdef\u001b[0m \u001b[0mmount\u001b[0m\u001b[0;34m(\u001b[0m\u001b[0mmountpoint\u001b[0m\u001b[0;34m,\u001b[0m \u001b[0mforce_remount\u001b[0m\u001b[0;34m=\u001b[0m\u001b[0;32mFalse\u001b[0m\u001b[0;34m,\u001b[0m \u001b[0mtimeout_ms\u001b[0m\u001b[0;34m=\u001b[0m\u001b[0;36m120000\u001b[0m\u001b[0;34m,\u001b[0m \u001b[0mreadonly\u001b[0m\u001b[0;34m=\u001b[0m\u001b[0;32mFalse\u001b[0m\u001b[0;34m)\u001b[0m\u001b[0;34m:\u001b[0m\u001b[0;34m\u001b[0m\u001b[0;34m\u001b[0m\u001b[0m\n\u001b[1;32m    100\u001b[0m   \u001b[0;34m\"\"\"Mount your Google Drive at the specified mountpoint path.\"\"\"\u001b[0m\u001b[0;34m\u001b[0m\u001b[0;34m\u001b[0m\u001b[0m\n\u001b[0;32m--> 101\u001b[0;31m   return _mount(\n\u001b[0m\u001b[1;32m    102\u001b[0m       \u001b[0mmountpoint\u001b[0m\u001b[0;34m,\u001b[0m\u001b[0;34m\u001b[0m\u001b[0;34m\u001b[0m\u001b[0m\n\u001b[1;32m    103\u001b[0m       \u001b[0mforce_remount\u001b[0m\u001b[0;34m=\u001b[0m\u001b[0mforce_remount\u001b[0m\u001b[0;34m,\u001b[0m\u001b[0;34m\u001b[0m\u001b[0;34m\u001b[0m\u001b[0m\n",
            "\u001b[0;32m/usr/local/lib/python3.8/dist-packages/google/colab/drive.py\u001b[0m in \u001b[0;36m_mount\u001b[0;34m(mountpoint, force_remount, timeout_ms, ephemeral, readonly)\u001b[0m\n\u001b[1;32m    187\u001b[0m     \u001b[0mnormed\u001b[0m \u001b[0;34m=\u001b[0m \u001b[0m_os\u001b[0m\u001b[0;34m.\u001b[0m\u001b[0mpath\u001b[0m\u001b[0;34m.\u001b[0m\u001b[0mnormpath\u001b[0m\u001b[0;34m(\u001b[0m\u001b[0mmountpoint\u001b[0m\u001b[0;34m)\u001b[0m\u001b[0;34m\u001b[0m\u001b[0;34m\u001b[0m\u001b[0m\n\u001b[1;32m    188\u001b[0m     \u001b[0;32mif\u001b[0m \u001b[0;34m'/'\u001b[0m \u001b[0;32min\u001b[0m \u001b[0mnormed\u001b[0m \u001b[0;32mand\u001b[0m \u001b[0;32mnot\u001b[0m \u001b[0m_os\u001b[0m\u001b[0;34m.\u001b[0m\u001b[0mpath\u001b[0m\u001b[0;34m.\u001b[0m\u001b[0mexists\u001b[0m\u001b[0;34m(\u001b[0m\u001b[0m_os\u001b[0m\u001b[0;34m.\u001b[0m\u001b[0mpath\u001b[0m\u001b[0;34m.\u001b[0m\u001b[0mdirname\u001b[0m\u001b[0;34m(\u001b[0m\u001b[0mnormed\u001b[0m\u001b[0;34m)\u001b[0m\u001b[0;34m)\u001b[0m\u001b[0;34m:\u001b[0m\u001b[0;34m\u001b[0m\u001b[0;34m\u001b[0m\u001b[0m\n\u001b[0;32m--> 189\u001b[0;31m       \u001b[0;32mraise\u001b[0m \u001b[0mValueError\u001b[0m\u001b[0;34m(\u001b[0m\u001b[0;34m'Mountpoint must be in a directory that exists'\u001b[0m\u001b[0;34m)\u001b[0m\u001b[0;34m\u001b[0m\u001b[0;34m\u001b[0m\u001b[0m\n\u001b[0m\u001b[1;32m    190\u001b[0m   \u001b[0;32mexcept\u001b[0m\u001b[0;34m:\u001b[0m\u001b[0;34m\u001b[0m\u001b[0;34m\u001b[0m\u001b[0m\n\u001b[1;32m    191\u001b[0m     \u001b[0md\u001b[0m\u001b[0;34m.\u001b[0m\u001b[0mkill\u001b[0m\u001b[0;34m(\u001b[0m\u001b[0m_signal\u001b[0m\u001b[0;34m.\u001b[0m\u001b[0mSIGKILL\u001b[0m\u001b[0;34m)\u001b[0m\u001b[0;34m\u001b[0m\u001b[0;34m\u001b[0m\u001b[0m\n",
            "\u001b[0;31mValueError\u001b[0m: Mountpoint must be in a directory that exists"
          ]
        }
      ]
    },
    {
      "cell_type": "markdown",
      "source": [
        " # <h1 style='background:#6daa9f; border:0; color:black'><center>HEART FAILURE</center></h1>\n",
        " ![Yellow%20and%20Black%20Personal%20Trainer%20LinkedIn.png](attachment:Yellow%20and%20Black%20Personal%20Trainer%20LinkedIn.png)\n",
        "\n",
        "Cardiovascular diseases are the most common cause of deaths globally, taking an estimated 17.9 million lives each year, which accounts for 31% of all deaths worldwide. Heart failure is a common event caused by Cardiovascular diseases. It is characterized by the heart’s inability to pump an adequate supply of blood to the body. Without sufficient blood flow, all major body functions are disrupted. Heart failure is a condition or a collection of symptoms that weaken the heart.\n"
      ],
      "metadata": {
        "id": "zV-UOIf92133"
      }
    },
    {
      "cell_type": "markdown",
      "source": [
        " # **<span style=\"color:#6daa9f;\">TABLE OF CONTENTS</span>**\n",
        "\n",
        "\n",
        "**IMPORTING LIBRARIES**\n",
        "\n",
        "**LOADING DATA**\n",
        "\n",
        "**DATA ANALYSIS**\n",
        "\n",
        "**DATA PREPROCESSING**\n",
        "\n",
        "**MODEL BUILDING**\n",
        "\n",
        "**CONCLUSIONS**\n",
        "\n",
        "# **<span style=\"color:#6daa9f;\">IMPORTING LIBRARIES</span>**\n"
      ],
      "metadata": {
        "id": "yJIvK56I2135"
      }
    },
    {
      "cell_type": "code",
      "source": [
        "import numpy as np\n",
        "import pandas as pd\n",
        "import matplotlib.pyplot as plt\n",
        "from sklearn import preprocessing\n",
        "from sklearn.preprocessing import StandardScaler\n",
        "from sklearn.model_selection import train_test_split\n",
        "import seaborn as sns\n",
        "from keras.layers import Dense, BatchNormalization, Dropout, LSTM\n",
        "from keras.models import Sequential\n",
        "from keras.utils import to_categorical\n",
        "from keras import callbacks\n",
        "from sklearn.metrics import precision_score, recall_score, confusion_matrix, classification_report, accuracy_score, f1_score\n"
      ],
      "metadata": {
        "execution": {
          "iopub.status.busy": "2021-05-28T09:51:58.63128Z",
          "iopub.execute_input": "2021-05-28T09:51:58.631793Z",
          "iopub.status.idle": "2021-05-28T09:52:04.679637Z",
          "shell.execute_reply.started": "2021-05-28T09:51:58.631763Z",
          "shell.execute_reply": "2021-05-28T09:52:04.678722Z"
        },
        "trusted": true,
        "id": "JHnH95Xs2136"
      },
      "execution_count": null,
      "outputs": []
    },
    {
      "cell_type": "code",
      "source": [
        "#These are the values we can change to find a difference between values and see the difference in the ANN\n",
        "\n",
        "epochs_= 1000\n",
        "batch_size_= 32\n",
        "validation_= 0.2\n",
        "test_Size_ = 0.2\n",
        "random_state_=7\n"
      ],
      "metadata": {
        "id": "STpdo-R_9cgI"
      },
      "execution_count": null,
      "outputs": []
    },
    {
      "cell_type": "markdown",
      "source": [
        "![image.png](data:image/png;base64,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)"
      ],
      "metadata": {
        "id": "NWqiph-sQNNm"
      }
    },
    {
      "cell_type": "markdown",
      "source": [
        "As we can see after we change the epoch to 1000 and we can see that accuracy is %88\n",
        "\n",
        "In the other %88 accuracy test we changed the batch size to 64 we can see the improvements\n",
        "\n",
        "but if we change the epoch to 1000 and batch size to 64 we can see  that accuracy drops drastically."
      ],
      "metadata": {
        "id": "LMktN7sHQ4D8"
      }
    },
    {
      "cell_type": "markdown",
      "source": [
        "# **<span style=\"color:#6daa9f;\">LOADING DATA</span>**"
      ],
      "metadata": {
        "id": "ThbzvtPt2136"
      }
    },
    {
      "cell_type": "code",
      "source": [
        "#loading data\n",
        "data = pd.read_csv(\"/content/heart_failure_clinical_records_dataset.csv\")\n",
        "data.head()"
      ],
      "metadata": {
        "execution": {
          "iopub.status.busy": "2021-05-28T09:52:04.680977Z",
          "iopub.execute_input": "2021-05-28T09:52:04.681275Z",
          "iopub.status.idle": "2021-05-28T09:52:04.737891Z",
          "shell.execute_reply.started": "2021-05-28T09:52:04.681248Z",
          "shell.execute_reply": "2021-05-28T09:52:04.736961Z"
        },
        "trusted": true,
        "id": "yDzW3UZ62137"
      },
      "execution_count": null,
      "outputs": []
    },
    {
      "cell_type": "code",
      "source": [
        "data.info()"
      ],
      "metadata": {
        "execution": {
          "iopub.status.busy": "2021-05-28T09:52:07.66541Z",
          "iopub.execute_input": "2021-05-28T09:52:07.66575Z",
          "iopub.status.idle": "2021-05-28T09:52:07.684067Z",
          "shell.execute_reply.started": "2021-05-28T09:52:07.665722Z",
          "shell.execute_reply": "2021-05-28T09:52:07.682812Z"
        },
        "trusted": true,
        "id": "IZFdmu6c2138"
      },
      "execution_count": null,
      "outputs": []
    },
    {
      "cell_type": "markdown",
      "source": [
        "**About the data:**\n",
        "\n",
        "* age: Age of the patient\n",
        "* anaemia: If the patient had the haemoglobin below the normal range\n",
        "* creatinine_phosphokinase: The level of the creatine phosphokinase in the blood in mcg/L\n",
        "* diabetes: If the patient was diabetic\n",
        "* ejection_fraction: Ejection fraction is a measurement of how much blood the left ventricle pumps out with each contraction\n",
        "* high_blood_pressure: If the patient had hypertension\n",
        "* platelets: Platelet count of blood in kiloplatelets/mL\n",
        "* serum_creatinine: The level of serum creatinine in the blood in mg/dL\n",
        "* serum_sodium: The level of serum sodium in the blood in mEq/L\n",
        "* sex: The sex of the patient\n",
        "* smoking: If the patient smokes actively or ever did in past\n",
        "* time: It is the time of the patient's follow-up visit for the disease in months\n",
        "* DEATH_EVENT: If the patient deceased during the follow-up period"
      ],
      "metadata": {
        "id": "8-z_B4Yg2139"
      }
    },
    {
      "cell_type": "markdown",
      "source": [
        "all the attributes in here are vital to this ANN so we are not going to delete any of them but if we like to delete one of the attributes\n",
        " we can use this code below,\n",
        "\n",
        "del data['Unnamed: 32']\n",
        "data.shape"
      ],
      "metadata": {
        "id": "xvW4_7aV5iul"
      }
    },
    {
      "cell_type": "markdown",
      "source": [
        "\n",
        "# **<span style=\"color:#6daa9f;\">DATA ANALYSIS</span>**\n",
        "\n",
        "Steps in data analysis and visulisation:\n",
        "\n",
        "We begin our analysis by plotting a count plot of the targer attribute.\n",
        "A corelation matrix od the various attributes to examine the feature importance.\n",
        "\n"
      ],
      "metadata": {
        "id": "ayKD4S-S2139"
      }
    },
    {
      "cell_type": "code",
      "source": [
        "#first of all let us evaluate the target and find out if our data is imbalanced or not\n",
        "cols= [\"#6daa9f\",\"#774571\"]\n",
        "sns.countplot(x= data[\"DEATH_EVENT\"], palette= cols)"
      ],
      "metadata": {
        "execution": {
          "iopub.status.busy": "2021-05-28T09:52:10.291183Z",
          "iopub.execute_input": "2021-05-28T09:52:10.291525Z",
          "iopub.status.idle": "2021-05-28T09:52:10.438767Z",
          "shell.execute_reply.started": "2021-05-28T09:52:10.291498Z",
          "shell.execute_reply": "2021-05-28T09:52:10.437797Z"
        },
        "trusted": true,
        "id": "fXUOKZms213-"
      },
      "execution_count": null,
      "outputs": []
    },
    {
      "cell_type": "markdown",
      "source": [
        "Point to note is that there is an imbalance in the data."
      ],
      "metadata": {
        "id": "cUAuj1KG213-"
      }
    },
    {
      "cell_type": "code",
      "source": [
        "#Examaning a corelation matrix of all the features\n",
        "cmap = sns.diverging_palette(275,150,  s=40, l=65, n=9)\n",
        "corrmat = data.corr()\n",
        "plt.subplots(figsize=(18,18))\n",
        "sns.heatmap(corrmat,cmap= cmap,annot=True, square=True);"
      ],
      "metadata": {
        "execution": {
          "iopub.status.busy": "2021-05-28T09:52:11.72777Z",
          "iopub.execute_input": "2021-05-28T09:52:11.728109Z",
          "iopub.status.idle": "2021-05-28T09:52:13.034658Z",
          "shell.execute_reply.started": "2021-05-28T09:52:11.728082Z",
          "shell.execute_reply": "2021-05-28T09:52:13.033543Z"
        },
        "trusted": true,
        "id": "C0SmS4Vf213_"
      },
      "execution_count": null,
      "outputs": []
    },
    {
      "cell_type": "markdown",
      "source": [
        "**Notable points:**\n",
        "* Time of the patient's follow-up visit for the disease is crucial in as initial diagnosis with cardiovascular issue and treatment reduces the chances of any fatality. It holds and inverse relation.\n",
        "* Ejection fraction is the second most important feature. It is quite expected as it is basically the efficiency of the heart.\n",
        "* Age of the patient is the third most correlated feature. Clearly as heart's functioning declines with ageing\n",
        "\n",
        "**Next, we will examine the count plot of age.**"
      ],
      "metadata": {
        "id": "QSCkIzV4213_"
      }
    },
    {
      "cell_type": "code",
      "source": [
        "#Evauating age distrivution\n",
        "plt.figure(figsize=(20,12))\n",
        "#colours =[\"#774571\",\"#b398af\",\"#f1f1f1\" ,\"#afcdc7\", \"#6daa9f\"]\n",
        "Days_of_week=sns.countplot(x=data['age'],data=data, hue =\"DEATH_EVENT\",palette = cols)\n",
        "Days_of_week.set_title(\"Distribution Of Age\", color=\"#774571\")"
      ],
      "metadata": {
        "execution": {
          "iopub.status.busy": "2021-05-28T09:52:17.155759Z",
          "iopub.execute_input": "2021-05-28T09:52:17.156134Z",
          "iopub.status.idle": "2021-05-28T09:52:18.155373Z",
          "shell.execute_reply.started": "2021-05-28T09:52:17.156077Z",
          "shell.execute_reply": "2021-05-28T09:52:18.154394Z"
        },
        "trusted": true,
        "id": "JBxZEPO4213_"
      },
      "execution_count": null,
      "outputs": []
    },
    {
      "cell_type": "code",
      "source": [
        "# Boxen and swarm plot of some non binary features.\n",
        "feature = [\"age\",\"creatinine_phosphokinase\",\"ejection_fraction\",\"platelets\",\"serum_creatinine\",\"serum_sodium\", \"time\"]\n",
        "for i in feature:\n",
        "    plt.figure(figsize=(8,8))\n",
        "    sns.swarmplot(x=data[\"DEATH_EVENT\"], y=data[i], color=\"black\", alpha=0.5)\n",
        "    sns.boxenplot(x=data[\"DEATH_EVENT\"], y=data[i], palette=cols)\n",
        "    plt.show()"
      ],
      "metadata": {
        "execution": {
          "iopub.status.busy": "2021-05-28T09:52:23.254869Z",
          "iopub.execute_input": "2021-05-28T09:52:23.255252Z",
          "iopub.status.idle": "2021-05-28T09:52:25.361075Z",
          "shell.execute_reply.started": "2021-05-28T09:52:23.255211Z",
          "shell.execute_reply": "2021-05-28T09:52:25.360333Z"
        },
        "trusted": true,
        "id": "0CjJDiUZ214A"
      },
      "execution_count": null,
      "outputs": []
    },
    {
      "cell_type": "markdown",
      "source": [
        "I spotted outliers on our dataset. I didn't remove them yet as it may lead to overfitting. Though we may end up with better statistics. In this case, with medical data, the outliers may be an important deciding factor.\n",
        "\n",
        "Next, we examine the kdeplot of time and age as they both are significant features."
      ],
      "metadata": {
        "id": "fpqS6RQG214A"
      }
    },
    {
      "cell_type": "code",
      "source": [
        "sns.kdeplot(x=data[\"time\"], y=data[\"age\"], hue =data[\"DEATH_EVENT\"], palette=cols)"
      ],
      "metadata": {
        "execution": {
          "iopub.status.busy": "2021-05-28T09:52:25.362789Z",
          "iopub.execute_input": "2021-05-28T09:52:25.363084Z",
          "iopub.status.idle": "2021-05-28T09:52:25.884438Z",
          "shell.execute_reply.started": "2021-05-28T09:52:25.363051Z",
          "shell.execute_reply": "2021-05-28T09:52:25.883346Z"
        },
        "trusted": true,
        "id": "ze4SmkYh214A"
      },
      "execution_count": null,
      "outputs": []
    },
    {
      "cell_type": "code",
      "source": [
        "data.describe().T"
      ],
      "metadata": {
        "execution": {
          "iopub.status.busy": "2021-05-28T09:52:25.88639Z",
          "iopub.execute_input": "2021-05-28T09:52:25.886778Z",
          "iopub.status.idle": "2021-05-28T09:52:25.93899Z",
          "shell.execute_reply.started": "2021-05-28T09:52:25.886738Z",
          "shell.execute_reply": "2021-05-28T09:52:25.937886Z"
        },
        "trusted": true,
        "id": "o0B0o0Lm214A"
      },
      "execution_count": null,
      "outputs": []
    },
    {
      "cell_type": "markdown",
      "source": [
        "# **<span style=\"color:#6daa9f;\">DATA PREPROCESSING</span>**\n",
        "\n",
        "**Steps involved in Data Preprocessing**\n",
        "* Dropping the outliers based on data analysis\n",
        "* Assigning values to features as X and target as y\n",
        "* Perform the scaling of the features\n",
        "* Split test and training sets"
      ],
      "metadata": {
        "id": "AVcJ5IfR214B"
      }
    },
    {
      "cell_type": "code",
      "source": [
        "#assigning values to features as X and target as y\n",
        "X=data.drop([\"DEATH_EVENT\"],axis=1)\n",
        "y=data[\"DEATH_EVENT\"]"
      ],
      "metadata": {
        "execution": {
          "iopub.status.busy": "2021-05-28T09:52:30.635096Z",
          "iopub.execute_input": "2021-05-28T09:52:30.635437Z",
          "iopub.status.idle": "2021-05-28T09:52:30.641048Z",
          "shell.execute_reply.started": "2021-05-28T09:52:30.635409Z",
          "shell.execute_reply": "2021-05-28T09:52:30.639885Z"
        },
        "trusted": true,
        "id": "BrlK0YS1214B"
      },
      "execution_count": null,
      "outputs": []
    },
    {
      "cell_type": "code",
      "source": [
        "#Set up a standard scaler for the features\n",
        "col_names = list(X.columns)\n",
        "s_scaler = preprocessing.StandardScaler()\n",
        "X_df= s_scaler.fit_transform(X)\n",
        "X_df = pd.DataFrame(X_df, columns=col_names)\n",
        "X_df.describe().T"
      ],
      "metadata": {
        "execution": {
          "iopub.status.busy": "2021-05-28T09:52:31.681073Z",
          "iopub.execute_input": "2021-05-28T09:52:31.681446Z",
          "iopub.status.idle": "2021-05-28T09:52:31.733889Z",
          "shell.execute_reply.started": "2021-05-28T09:52:31.681404Z",
          "shell.execute_reply": "2021-05-28T09:52:31.732849Z"
        },
        "trusted": true,
        "id": "wdG24cw5214B"
      },
      "execution_count": null,
      "outputs": []
    },
    {
      "cell_type": "code",
      "source": [
        "#looking at the scaled features\n",
        "colours =[\"#774571\",\"#b398af\",\"#f1f1f1\" ,\"#afcdc7\", \"#6daa9f\"]\n",
        "plt.figure(figsize=(20,10))\n",
        "sns.boxenplot(data = X_df,palette = colours)\n",
        "plt.xticks(rotation=90)\n",
        "plt.show()"
      ],
      "metadata": {
        "execution": {
          "iopub.status.busy": "2021-05-28T09:52:32.742371Z",
          "iopub.execute_input": "2021-05-28T09:52:32.742705Z",
          "iopub.status.idle": "2021-05-28T09:52:33.083986Z",
          "shell.execute_reply.started": "2021-05-28T09:52:32.742676Z",
          "shell.execute_reply": "2021-05-28T09:52:33.083012Z"
        },
        "trusted": true,
        "id": "yT8335kl214B"
      },
      "execution_count": null,
      "outputs": []
    },
    {
      "cell_type": "code",
      "source": [
        "#spliting test and training sets\n",
        "X_train, X_test, y_train,y_test = train_test_split(X_df,y,test_size=test_Size_,random_state=random_state_)"
      ],
      "metadata": {
        "execution": {
          "iopub.status.busy": "2021-05-28T09:52:36.614263Z",
          "iopub.execute_input": "2021-05-28T09:52:36.614775Z",
          "iopub.status.idle": "2021-05-28T09:52:36.620217Z",
          "shell.execute_reply.started": "2021-05-28T09:52:36.614746Z",
          "shell.execute_reply": "2021-05-28T09:52:36.619485Z"
        },
        "trusted": true,
        "id": "ZAYQsMBK214B"
      },
      "execution_count": null,
      "outputs": []
    },
    {
      "cell_type": "markdown",
      "source": [
        "# **<span style=\"color:#6daa9f;\">MODEL BUILDING</span>**\n",
        "\n",
        "In this project, we build an artificial neural network.\n",
        "\n",
        "**Following steps are involved in the model building**\n",
        "* Initialising the ANN\n",
        "* Defining by adding layers\n",
        "* Compiling the ANN\n",
        "* Train the ANN"
      ],
      "metadata": {
        "id": "bKhhJ4us214C"
      }
    },
    {
      "cell_type": "code",
      "source": [
        "early_stopping = callbacks.EarlyStopping(\n",
        "    min_delta=0.001, # minimium amount of change to count as an improvement\n",
        "    patience=20, # how many epochs to wait before stopping\n",
        "    restore_best_weights=True)\n",
        "\n",
        "# Initialising the NN\n",
        "model = Sequential()\n",
        "\n",
        "# layers\n",
        "#Secret layer\n",
        "\n",
        "model.add(Dense(units = 16, kernel_initializer = 'uniform', activation = 'relu', input_dim = 12))\n",
        "#Secret layer\n",
        "model.add(Dense(units = 8, kernel_initializer = 'uniform', activation = 'relu'))\n",
        "model.add(Dropout(0.25))\n",
        "#Secret layer\n",
        "model.add(Dense(units = 4, kernel_initializer = 'uniform', activation = 'relu'))\n",
        "model.add(Dropout(0.5))\n",
        "#Output layer\n",
        "model.add(Dense(units = 1, kernel_initializer = 'uniform', activation = 'sigmoid'))\n",
        "from keras.optimizers import SGD\n",
        "# Compiling the ANN\n",
        "model.compile(optimizer = 'adam', loss = 'binary_crossentropy', metrics = ['accuracy'])\n",
        "\n",
        "# Train the ANN\n",
        "history = model.fit(X_train, y_train, batch_size = batch_size_, epochs = epochs_,callbacks=[early_stopping], validation_split=validation_)"
      ],
      "metadata": {
        "_kg_hide-output": true,
        "execution": {
          "iopub.status.busy": "2021-05-28T09:52:38.818151Z",
          "iopub.execute_input": "2021-05-28T09:52:38.818626Z",
          "iopub.status.idle": "2021-05-28T09:52:45.570341Z",
          "shell.execute_reply.started": "2021-05-28T09:52:38.818597Z",
          "shell.execute_reply": "2021-05-28T09:52:45.569576Z"
        },
        "trusted": true,
        "id": "BQytNSBw214C"
      },
      "execution_count": null,
      "outputs": []
    },
    {
      "cell_type": "code",
      "source": [
        "val_accuracy = np.mean(history.history['val_accuracy'])\n",
        "print(\"\\n%s: %.2f%%\" % ('val_accuracy', val_accuracy*100))"
      ],
      "metadata": {
        "execution": {
          "iopub.status.busy": "2021-05-28T09:53:12.995957Z",
          "iopub.execute_input": "2021-05-28T09:53:12.996549Z",
          "iopub.status.idle": "2021-05-28T09:53:13.00173Z",
          "shell.execute_reply.started": "2021-05-28T09:53:12.996515Z",
          "shell.execute_reply": "2021-05-28T09:53:13.000971Z"
        },
        "trusted": true,
        "id": "ivYGW3Ip214C"
      },
      "execution_count": null,
      "outputs": []
    },
    {
      "cell_type": "markdown",
      "source": [
        "**Plotting training and validation loss over epochs**"
      ],
      "metadata": {
        "id": "38PBFmzt214C"
      }
    },
    {
      "cell_type": "code",
      "source": [
        "history_df = pd.DataFrame(history.history)\n",
        "\n",
        "plt.plot(history_df.loc[:, ['loss']], \"#6daa9f\", label='Training loss')\n",
        "plt.plot(history_df.loc[:, ['val_loss']],\"#774571\", label='Validation loss')\n",
        "plt.title('Training and Validation loss')\n",
        "plt.xlabel('Epochs')\n",
        "plt.ylabel('Loss')\n",
        "plt.legend(loc=\"best\")\n",
        "\n",
        "plt.show()"
      ],
      "metadata": {
        "execution": {
          "iopub.status.busy": "2021-05-28T09:53:14.519053Z",
          "iopub.execute_input": "2021-05-28T09:53:14.519627Z",
          "iopub.status.idle": "2021-05-28T09:53:14.694759Z",
          "shell.execute_reply.started": "2021-05-28T09:53:14.519572Z",
          "shell.execute_reply": "2021-05-28T09:53:14.693783Z"
        },
        "trusted": true,
        "id": "5SVb4YFz214C"
      },
      "execution_count": null,
      "outputs": []
    },
    {
      "cell_type": "markdown",
      "source": [
        "**Plotting training and validation accuracy over epochs**"
      ],
      "metadata": {
        "id": "J-8KLy1z214C"
      }
    },
    {
      "cell_type": "code",
      "source": [
        "history_df = pd.DataFrame(history.history)\n",
        "\n",
        "plt.plot(history_df.loc[:, ['accuracy']], \"#6daa9f\", label='Training accuracy')\n",
        "plt.plot(history_df.loc[:, ['val_accuracy']], \"#774571\", label='Validation accuracy')\n",
        "\n",
        "plt.title('Training and Validation accuracy')\n",
        "plt.xlabel('Epochs')\n",
        "plt.ylabel('Accuracy')\n",
        "plt.legend()\n",
        "plt.show()"
      ],
      "metadata": {
        "execution": {
          "iopub.status.busy": "2021-05-28T09:53:16.529372Z",
          "iopub.execute_input": "2021-05-28T09:53:16.529714Z",
          "iopub.status.idle": "2021-05-28T09:53:16.70551Z",
          "shell.execute_reply.started": "2021-05-28T09:53:16.529684Z",
          "shell.execute_reply": "2021-05-28T09:53:16.70437Z"
        },
        "trusted": true,
        "id": "BD58afUf214D"
      },
      "execution_count": null,
      "outputs": []
    },
    {
      "cell_type": "markdown",
      "source": [
        "# **<span style=\"color:#6daa9f;\">CONCLUSIONS</span>**\n",
        "\n",
        "**Concluding the model with:**\n",
        "\n",
        "* Testing on the test set\n",
        "* Evaluating the confusion matrix\n",
        "* Evaluating the classification report"
      ],
      "metadata": {
        "id": "ikc_SN4N214D"
      }
    },
    {
      "cell_type": "code",
      "source": [
        "# Predicting the test set results\n",
        "y_pred = model.predict(X_test)\n",
        "y_pred = (y_pred > 0.5)\n",
        "np.set_printoptions()"
      ],
      "metadata": {
        "execution": {
          "iopub.status.busy": "2021-05-28T09:53:18.972127Z",
          "iopub.execute_input": "2021-05-28T09:53:18.972473Z",
          "iopub.status.idle": "2021-05-28T09:53:19.092366Z",
          "shell.execute_reply.started": "2021-05-28T09:53:18.972443Z",
          "shell.execute_reply": "2021-05-28T09:53:19.091387Z"
        },
        "trusted": true,
        "id": "goaLut_J214D"
      },
      "execution_count": null,
      "outputs": []
    },
    {
      "cell_type": "code",
      "source": [
        "# confusion matrix\n",
        "cmap1 = sns.diverging_palette(275,150,  s=40, l=65, n=6)\n",
        "plt.subplots(figsize=(12,8))\n",
        "cf_matrix = confusion_matrix(y_test, y_pred)\n",
        "sns.heatmap(cf_matrix/np.sum(cf_matrix), cmap = cmap1, annot = True, annot_kws = {'size':15})"
      ],
      "metadata": {
        "execution": {
          "iopub.status.busy": "2021-05-28T09:53:20.180373Z",
          "iopub.execute_input": "2021-05-28T09:53:20.181022Z",
          "iopub.status.idle": "2021-05-28T09:53:20.366408Z",
          "shell.execute_reply.started": "2021-05-28T09:53:20.180974Z",
          "shell.execute_reply": "2021-05-28T09:53:20.365472Z"
        },
        "trusted": true,
        "id": "5BwJVsmo214D"
      },
      "execution_count": null,
      "outputs": []
    },
    {
      "cell_type": "code",
      "source": [
        "print(classification_report(y_test, y_pred))"
      ],
      "metadata": {
        "execution": {
          "iopub.status.busy": "2021-05-28T09:53:24.423544Z",
          "iopub.execute_input": "2021-05-28T09:53:24.424177Z",
          "iopub.status.idle": "2021-05-28T09:53:24.434445Z",
          "shell.execute_reply.started": "2021-05-28T09:53:24.424129Z",
          "shell.execute_reply": "2021-05-28T09:53:24.433369Z"
        },
        "trusted": true,
        "id": "18Ysnx2x214D"
      },
      "execution_count": null,
      "outputs": []
    },
    {
      "cell_type": "markdown",
      "source": [
        "\n",
        "Thanks for revieving the project."
      ],
      "metadata": {
        "id": "ICuqwZvg214D"
      }
    }
  ]
}